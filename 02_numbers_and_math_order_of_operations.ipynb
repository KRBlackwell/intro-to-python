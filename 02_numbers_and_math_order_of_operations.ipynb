{
  "nbformat": 4,
  "nbformat_minor": 0,
  "metadata": {
    "colab": {
      "provenance": [],
      "toc_visible": true
    },
    "kernelspec": {
      "name": "python3",
      "display_name": "Python 3"
    },
    "language_info": {
      "name": "python"
    }
  },
  "cells": [
    {
      "cell_type": "markdown",
      "source": [
        "# Numbers and math\n",
        "* data types\n",
        "* booleans\n",
        "* integers\n",
        "* bases\n",
        "* type conversion\n",
        "* floats\n",
        "* math order of operations 👈\n",
        "* math"
      ],
      "metadata": {
        "id": "R96pkP9Pg7vm"
      }
    },
    {
      "cell_type": "markdown",
      "source": [
        "## Arithmetic operators\n",
        "|Operator|Operation|\n",
        "|:-|:-|\n",
        "|+|addition|\n",
        "|-|subtraction|\n",
        "|*|multiplication|\n",
        "|/|division|\n",
        "|//|integer division|\n",
        "|%|modulo|\n",
        "|**|exponent|"
      ],
      "metadata": {
        "id": "9ciK_VfBAcDK"
      }
    },
    {
      "cell_type": "markdown",
      "source": [
        "## Order of operation\n",
        "* List comprehensions, generators, and things in parentheses\n",
        "* Function calls\n",
        "* Exponents\n",
        "* Positives, negative, not\n",
        "* Multiplication, divisions, remainders\n",
        "* Addition, subtraction\n",
        "\n",
        "## PEMDAS -> PEDMAS\n",
        "\n",
        "You may have heard this mnemonic \"Please Excuse My Dear Aunt Sally.\" Where you\n",
        "association Please with Parentheses, Excuse with Exponentiation, My with Multiplication, Dear with Division, Aunt with Addition, and Sally with Subtraction. That is the order of operations you learn in school.\n",
        "\\\n",
        "\\\n",
        "We're going to change it a little bit.\n",
        "Python will do division before multiplication.\n",
        "* Parentheses\n",
        "* Exponents\n",
        "* Division\n",
        "* Multiplication\n",
        "* Addition\n",
        "* Subtraction\n",
        "\n",
        "\n",
        "For the most common operations you'll be doing as a beginner, this is the order of operations. There is a lot more to this topic!\n"
      ],
      "metadata": {
        "id": "m4qQ8trDm-8K"
      }
    },
    {
      "cell_type": "code",
      "source": [
        "# Multiplication then Addition\n",
        "# 2 * 3 is evaluated first, 2 * 3 = 6\n",
        "# 4 + 6 = 10\n",
        "4 + 2 * 3"
      ],
      "metadata": {
        "colab": {
          "base_uri": "https://localhost:8080/"
        },
        "id": "EvxgYKwQrs6p",
        "outputId": "aeec24d0-9e50-491a-96de-fe60f663dd21"
      },
      "execution_count": null,
      "outputs": [
        {
          "output_type": "execute_result",
          "data": {
            "text/plain": [
              "10"
            ]
          },
          "metadata": {},
          "execution_count": 1
        }
      ]
    },
    {
      "cell_type": "code",
      "source": [
        "# 4 / 4 = 1\n",
        "# 2 * 3 = 6\n",
        "# 1 + 6 = 7\n",
        "4 / 4 + 2 * 3"
      ],
      "metadata": {
        "colab": {
          "base_uri": "https://localhost:8080/"
        },
        "id": "4aLN9QcCr789",
        "outputId": "d656fa35-bc88-465b-d5c6-2956460e16cb"
      },
      "execution_count": null,
      "outputs": [
        {
          "output_type": "execute_result",
          "data": {
            "text/plain": [
              "7.0"
            ]
          },
          "metadata": {},
          "execution_count": 2
        }
      ]
    },
    {
      "cell_type": "code",
      "source": [
        "#4**2 is exponentiation 4 * 4 = 16\n",
        "# 16 / 4 = 4\n",
        "# 2 * 3 = 6\n",
        "# 4 + 6 = 10\n",
        "4**2 / 4 + 2 * 3"
      ],
      "metadata": {
        "colab": {
          "base_uri": "https://localhost:8080/"
        },
        "id": "o_N4q0b3xoX4",
        "outputId": "17ab0f8a-2253-4edc-b06b-6f24e9030152"
      },
      "execution_count": null,
      "outputs": [
        {
          "output_type": "execute_result",
          "data": {
            "text/plain": [
              "10.0"
            ]
          },
          "metadata": {},
          "execution_count": 1
        }
      ]
    },
    {
      "cell_type": "code",
      "source": [
        "# Division before Multiplication - conflicts with Please Excuse My Dear Aunt Sally\n",
        "# (4 + 2) = 6\n",
        "# 4 **2 = 16\n",
        "# 16 / 6 * 3\n",
        "# if you did 6 * 3 first, you'd get a different answer\n",
        "# python does 16 / 6 first\n",
        "# 16 / 6  = 2 2/3 or 2.666666... or (2 + (2/3))\n",
        "# 2 2/3 * 3 = 8\n",
        "\n",
        "4**2 / (4 + 2) * 3"
      ],
      "metadata": {
        "colab": {
          "base_uri": "https://localhost:8080/"
        },
        "id": "e5lNKL5ryolQ",
        "outputId": "4a0e454b-850c-4b5a-9d67-4d2130af895f"
      },
      "execution_count": null,
      "outputs": [
        {
          "output_type": "execute_result",
          "data": {
            "text/plain": [
              "8.0"
            ]
          },
          "metadata": {},
          "execution_count": 11
        }
      ]
    },
    {
      "cell_type": "markdown",
      "source": [
        "The Python IDLE interpreter also gets the same answer:\n",
        "![image.png](data:image/png;base64,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)"
      ],
      "metadata": {
        "id": "K56VkyIo-xxg"
      }
    },
    {
      "cell_type": "code",
      "source": [
        "# (4 + 2) = 6\n",
        "# 4**2 = 16\n",
        "# 16 / 6 - 3 * 3\n",
        "# 2 1/3 - 9 = -6.333333...\n",
        "4**2 / (4 + 2) - 3 * 3"
      ],
      "metadata": {
        "colab": {
          "base_uri": "https://localhost:8080/"
        },
        "id": "bgEpoAGLzUh3",
        "outputId": "32025212-084c-4590-e931-6d96fa1218e2"
      },
      "execution_count": null,
      "outputs": [
        {
          "output_type": "execute_result",
          "data": {
            "text/plain": [
              "-6.333333333333334"
            ]
          },
          "metadata": {},
          "execution_count": 18
        }
      ]
    },
    {
      "cell_type": "code",
      "source": [
        "# With Addition and Subtraction only, the order doesn't matter.\n",
        "# do the parentheses first. this is our exponent\n",
        "# (3 - 2 ) = 1\n",
        "# so the exponentiation becomes\n",
        "# 4**1 = 4\n",
        "# let's insert it into the full thing\n",
        "# 4 - 5 - 8 + 3 + 2 #so with only addition and subtraction, it doesn't matter what order\n",
        "# 4 + -5 + -8 + 3 + 2 #and we can represent it this way also\n",
        "# so let's go one piece at a time\n",
        "# 4 - 5 = -1\n",
        "# back to the full thing\n",
        "# -1 - 8 + 3 + 2\n",
        "# next two\n",
        "# -1 - 8 = -9\n",
        "# the full thing now becomes\n",
        "# - 9 + 3 + 2\n",
        "# net piece\n",
        "# -9 + 3 = -6\n",
        "# now we're left with\n",
        "# -6 + 2 = -4\n",
        "4**(3-2) - 5 - 8 + 3 + 2"
      ],
      "metadata": {
        "colab": {
          "base_uri": "https://localhost:8080/"
        },
        "id": "XHgjBQsW1TQ8",
        "outputId": "db5b823b-c843-4cc8-8fe1-1a0fc193f6d1"
      },
      "execution_count": null,
      "outputs": [
        {
          "output_type": "execute_result",
          "data": {
            "text/plain": [
              "-4"
            ]
          },
          "metadata": {},
          "execution_count": 24
        }
      ]
    },
    {
      "cell_type": "markdown",
      "source": [
        "# Exercise example\n",
        "Similar to how I worked through the above example, work through a few more."
      ],
      "metadata": {
        "id": "5Ih9nwx7kpTm"
      }
    },
    {
      "cell_type": "code",
      "source": [
        "#here's how I suggest you work through a couple of examples\n",
        "4**2 / (4 + 2) * 3"
      ],
      "metadata": {
        "colab": {
          "base_uri": "https://localhost:8080/"
        },
        "id": "cTS67VJM5ocZ",
        "outputId": "c014b9db-4c37-4419-8d0a-7ea43451040b"
      },
      "execution_count": null,
      "outputs": [
        {
          "output_type": "execute_result",
          "data": {
            "text/plain": [
              "8.0"
            ]
          },
          "metadata": {},
          "execution_count": 25
        }
      ]
    },
    {
      "cell_type": "code",
      "source": [
        "4**2"
      ],
      "metadata": {
        "colab": {
          "base_uri": "https://localhost:8080/"
        },
        "id": "xyfnVf7d5yiA",
        "outputId": "f1534f62-80ab-4275-d222-625e2f96f78d"
      },
      "execution_count": null,
      "outputs": [
        {
          "output_type": "execute_result",
          "data": {
            "text/plain": [
              "16"
            ]
          },
          "metadata": {},
          "execution_count": 26
        }
      ]
    },
    {
      "cell_type": "code",
      "source": [
        "16/(4+2)*3"
      ],
      "metadata": {
        "colab": {
          "base_uri": "https://localhost:8080/"
        },
        "id": "hUnFGdfe52tD",
        "outputId": "f9174f56-6425-406f-efea-43f85f1c8845"
      },
      "execution_count": null,
      "outputs": [
        {
          "output_type": "execute_result",
          "data": {
            "text/plain": [
              "8.0"
            ]
          },
          "metadata": {},
          "execution_count": 28
        }
      ]
    },
    {
      "cell_type": "code",
      "source": [
        "(4+2)"
      ],
      "metadata": {
        "colab": {
          "base_uri": "https://localhost:8080/"
        },
        "id": "r_rHcgeP50yO",
        "outputId": "f15cf47d-7146-4da7-c5a2-4a0944522916"
      },
      "execution_count": null,
      "outputs": [
        {
          "output_type": "execute_result",
          "data": {
            "text/plain": [
              "6"
            ]
          },
          "metadata": {},
          "execution_count": 27
        }
      ]
    },
    {
      "cell_type": "code",
      "source": [
        "16/6*3"
      ],
      "metadata": {
        "colab": {
          "base_uri": "https://localhost:8080/"
        },
        "id": "eVhb65St53C8",
        "outputId": "44397bd9-4f22-4a47-867f-a64c6f568df0"
      },
      "execution_count": null,
      "outputs": [
        {
          "output_type": "execute_result",
          "data": {
            "text/plain": [
              "8.0"
            ]
          },
          "metadata": {},
          "execution_count": 29
        }
      ]
    },
    {
      "cell_type": "code",
      "source": [
        "16/6"
      ],
      "metadata": {
        "colab": {
          "base_uri": "https://localhost:8080/"
        },
        "id": "IxFZ_FLa5_1R",
        "outputId": "4c8e8c7a-07f6-491f-93f9-fbe329775b2e"
      },
      "execution_count": null,
      "outputs": [
        {
          "output_type": "execute_result",
          "data": {
            "text/plain": [
              "2.6666666666666665"
            ]
          },
          "metadata": {},
          "execution_count": 30
        }
      ]
    },
    {
      "cell_type": "code",
      "source": [
        "2.6666666666666665*3"
      ],
      "metadata": {
        "colab": {
          "base_uri": "https://localhost:8080/"
        },
        "id": "40EmToWK6E6-",
        "outputId": "803b482f-e6a9-4f1e-edf6-22c071abc8f7"
      },
      "execution_count": null,
      "outputs": [
        {
          "output_type": "execute_result",
          "data": {
            "text/plain": [
              "8.0"
            ]
          },
          "metadata": {},
          "execution_count": 31
        }
      ]
    },
    {
      "cell_type": "code",
      "source": [
        "(2 + (2/3)) * 3"
      ],
      "metadata": {
        "colab": {
          "base_uri": "https://localhost:8080/"
        },
        "id": "9cC7Te9v6JGW",
        "outputId": "05147bf4-f40e-4b97-892d-56d735ef6870"
      },
      "execution_count": null,
      "outputs": [
        {
          "output_type": "execute_result",
          "data": {
            "text/plain": [
              "8.0"
            ]
          },
          "metadata": {},
          "execution_count": 38
        }
      ]
    },
    {
      "cell_type": "markdown",
      "source": [
        "# Example\n",
        "Now do this with the following:"
      ],
      "metadata": {
        "id": "WCXim2wW65Ba"
      }
    },
    {
      "cell_type": "code",
      "source": [
        "a = 5\n",
        "(a*2 + 3 - 3 / 1) % 10"
      ],
      "metadata": {
        "id": "O99nJSLW6M-y"
      },
      "execution_count": null,
      "outputs": []
    },
    {
      "cell_type": "code",
      "source": [
        "# first operation\n"
      ],
      "metadata": {
        "id": "RcMHlwhw8fz5"
      },
      "execution_count": null,
      "outputs": []
    },
    {
      "cell_type": "code",
      "source": [
        "# type out the full equation with the first operation evaluated\n"
      ],
      "metadata": {
        "id": "YFCbCLeH8gDN"
      },
      "execution_count": null,
      "outputs": []
    },
    {
      "cell_type": "code",
      "source": [
        "# second operation\n"
      ],
      "metadata": {
        "id": "7a16Gao28gXi"
      },
      "execution_count": null,
      "outputs": []
    },
    {
      "cell_type": "code",
      "source": [
        "# type out the full equation with the second operation evaluated\n"
      ],
      "metadata": {
        "id": "yuUsQhwA8gec"
      },
      "execution_count": null,
      "outputs": []
    },
    {
      "cell_type": "code",
      "source": [
        "# third operation - everything in parentheses\n"
      ],
      "metadata": {
        "id": "fXABFNFU8gkf"
      },
      "execution_count": null,
      "outputs": []
    },
    {
      "cell_type": "code",
      "source": [
        "# type out the full equation, which should just be two things now\n"
      ],
      "metadata": {
        "id": "pPpha6Lf8gq9"
      },
      "execution_count": null,
      "outputs": []
    }
  ]
}