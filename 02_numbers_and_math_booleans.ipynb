{
  "nbformat": 4,
  "nbformat_minor": 0,
  "metadata": {
    "colab": {
      "provenance": []
    },
    "kernelspec": {
      "name": "python3",
      "display_name": "Python 3"
    },
    "language_info": {
      "name": "python"
    }
  },
  "cells": [
    {
      "cell_type": "markdown",
      "source": [
        "# Numbers and math\n",
        "* data types\n",
        "* booleans\n",
        "* integers\n",
        "* bases\n",
        "* type conversion\n",
        "* floats\n",
        "* math order of operations\n",
        "* math\n"
      ],
      "metadata": {
        "id": "kH_hEDvAu4aH"
      }
    },
    {
      "cell_type": "markdown",
      "source": [
        "## Data Types\n",
        "* Different programming languages support different data types.\n",
        "* Different programming languages have different default values for certain data types, like Java's default for booleans is False.\n",
        "  * Python's default for bool() is False.\n",
        "* **primitive data types** - building blocks for other data types\n",
        "* **built-in data types** - primitive data types, while others are referred to as derived data types\n",
        "  * sometimes used interchangeably with primitive data types, but sometimes used to refer to data types built in to the programming language by default\n",
        "\n",
        "\n",
        "[Python's documentation on data types](https://docs.python.org/3/library/stdtypes.html) provides excellent information and further detail.\\\n",
        "The Python docs are going to eventually be your go-to resource. If they look like hieroglyphics to you at this point, that's ok. You'll understand them eventually."
      ],
      "metadata": {
        "id": "cmT59ak4nM-9"
      }
    },
    {
      "cell_type": "markdown",
      "source": [
        "## Booleans in Python\n",
        "* True or False\n",
        "* lazily evaluated\n",
        "* primitive\n",
        "* no default value\n",
        "* can't use in math\\\n",
        "A boolean data type evaluates to True or False, and that's it. Often, in Python, you'll hear that boolean expressions (something that resolves to a True or False) are lazily evaluated. This means they're evaluated when they're used."
      ],
      "metadata": {
        "id": "a2sI10B355bl"
      }
    },
    {
      "cell_type": "code",
      "execution_count": 1,
      "metadata": {
        "colab": {
          "base_uri": "https://localhost:8080/"
        },
        "id": "qsWAO1gKuJaX",
        "outputId": "55c8916c-943f-4390-fc18-029ace07af48"
      },
      "outputs": [
        {
          "output_type": "execute_result",
          "data": {
            "text/plain": [
              "False"
            ]
          },
          "metadata": {},
          "execution_count": 1
        }
      ],
      "source": [
        "#bool() checks if something is True or False\n",
        "#see its default value\n",
        "bool()"
      ]
    },
    {
      "cell_type": "code",
      "source": [
        "#This method raises an exception if you give it something that's not been defined\n",
        "bool(a)"
      ],
      "metadata": {
        "colab": {
          "base_uri": "https://localhost:8080/",
          "height": 198
        },
        "id": "1ySYujvfuUU9",
        "outputId": "eb5977c1-130e-4b34-dce7-1c6d033b6eda"
      },
      "execution_count": 2,
      "outputs": [
        {
          "output_type": "error",
          "ename": "NameError",
          "evalue": "ignored",
          "traceback": [
            "\u001b[0;31m---------------------------------------------------------------------------\u001b[0m",
            "\u001b[0;31mNameError\u001b[0m                                 Traceback (most recent call last)",
            "\u001b[0;32m<ipython-input-2-56761c1e0ae1>\u001b[0m in \u001b[0;36m<cell line: 2>\u001b[0;34m()\u001b[0m\n\u001b[1;32m      1\u001b[0m \u001b[0;31m#This method raises an exception if you give it something that's not been defined\u001b[0m\u001b[0;34m\u001b[0m\u001b[0;34m\u001b[0m\u001b[0m\n\u001b[0;32m----> 2\u001b[0;31m \u001b[0mbool\u001b[0m\u001b[0;34m(\u001b[0m\u001b[0ma\u001b[0m\u001b[0;34m)\u001b[0m\u001b[0;34m\u001b[0m\u001b[0;34m\u001b[0m\u001b[0m\n\u001b[0m",
            "\u001b[0;31mNameError\u001b[0m: name 'a' is not defined"
          ]
        }
      ]
    },
    {
      "cell_type": "code",
      "source": [
        "#In Python, everything is an object.\n",
        "#You can test the truth values of any object in Python\n",
        "a = 2\n",
        "bool(a)"
      ],
      "metadata": {
        "colab": {
          "base_uri": "https://localhost:8080/"
        },
        "id": "qeCjmNgJvAUW",
        "outputId": "e3ea1fad-12ed-46fe-9dd5-a3a77a3d702b"
      },
      "execution_count": 3,
      "outputs": [
        {
          "output_type": "execute_result",
          "data": {
            "text/plain": [
              "True"
            ]
          },
          "metadata": {},
          "execution_count": 3
        }
      ]
    },
    {
      "cell_type": "code",
      "source": [
        "#in notebooks you don't have to type print( a == b ), you can just enter it plainly like the below\n",
        "# 2 == 3 ? False\n",
        "b = 3\n",
        "a == b"
      ],
      "metadata": {
        "colab": {
          "base_uri": "https://localhost:8080/"
        },
        "id": "itLJK47gwREC",
        "outputId": "b246e538-9b4a-4916-f419-18197863df74"
      },
      "execution_count": 6,
      "outputs": [
        {
          "output_type": "execute_result",
          "data": {
            "text/plain": [
              "False"
            ]
          },
          "metadata": {},
          "execution_count": 6
        }
      ]
    },
    {
      "cell_type": "markdown",
      "source": [
        "# Exercise\n",
        "Try more here to see the values Python gives for various objects.\\\n",
        "* Is a string True or False?\n",
        "* Is a single character, like 'a' different?\n",
        "* What about a list, like [1, 2, 3]?"
      ],
      "metadata": {
        "id": "HqyGdqdIwmQi"
      }
    },
    {
      "cell_type": "code",
      "source": [
        "#Do the exercise here\n",
        "#Is a string True or False?"
      ],
      "metadata": {
        "id": "PSNmxKqGwjZh"
      },
      "execution_count": null,
      "outputs": []
    },
    {
      "cell_type": "code",
      "source": [
        "#Is a single character, like 'a' different?"
      ],
      "metadata": {
        "id": "UZgNhcMuw6-I"
      },
      "execution_count": null,
      "outputs": []
    },
    {
      "cell_type": "code",
      "source": [
        "#What about a list by itself?"
      ],
      "metadata": {
        "id": "7yn7CtwTw9Vk"
      },
      "execution_count": null,
      "outputs": []
    },
    {
      "cell_type": "markdown",
      "source": [
        "Remember the list in the first notebook.\\\n",
        "[link text](https://)\n"
      ],
      "metadata": {
        "id": "E8kTuL_xxDzF"
      }
    },
    {
      "cell_type": "code",
      "source": [
        "#Play around with lists"
      ],
      "metadata": {
        "id": "Wu5p_E0axAw6"
      },
      "execution_count": null,
      "outputs": []
    }
  ]
}