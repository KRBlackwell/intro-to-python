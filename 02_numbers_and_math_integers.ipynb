{
  "nbformat": 4,
  "nbformat_minor": 0,
  "metadata": {
    "colab": {
      "provenance": []
    },
    "kernelspec": {
      "name": "python3",
      "display_name": "Python 3"
    },
    "language_info": {
      "name": "python"
    }
  },
  "cells": [
    {
      "cell_type": "markdown",
      "source": [
        "# Numbers and math\n",
        "* data types\n",
        "* booleans\n",
        "* integers 👈\n",
        "* bases\n",
        "* type conversion\n",
        "* floats\n",
        "* math order of operations\n",
        "* math"
      ],
      "metadata": {
        "id": "R96pkP9Pg7vm"
      }
    },
    {
      "cell_type": "markdown",
      "source": [
        "## Integers\n",
        "Integers are whole numbers, like 1, 2, 3, etc. without decimals or fractions. Don't create integers in your code with commas, because that will create something called a tuple. You can format numbers for printing with commas after the fact."
      ],
      "metadata": {
        "id": "udT1R5NMhU6_"
      }
    },
    {
      "cell_type": "code",
      "execution_count": null,
      "metadata": {
        "colab": {
          "base_uri": "https://localhost:8080/"
        },
        "id": "acK7ykczg67J",
        "outputId": "6c9d8dc7-35d9-4408-e71f-f4b736c5bd6a"
      },
      "outputs": [
        {
          "output_type": "execute_result",
          "data": {
            "text/plain": [
              "0"
            ]
          },
          "metadata": {},
          "execution_count": 1
        }
      ],
      "source": [
        "0"
      ]
    },
    {
      "cell_type": "code",
      "source": [
        "4555"
      ],
      "metadata": {
        "colab": {
          "base_uri": "https://localhost:8080/"
        },
        "id": "MNA-iGyEj1bK",
        "outputId": "3f6a70b4-94d6-45db-b0a2-fcc97eaad7f4"
      },
      "execution_count": null,
      "outputs": [
        {
          "output_type": "execute_result",
          "data": {
            "text/plain": [
              "4555"
            ]
          },
          "metadata": {},
          "execution_count": 2
        }
      ]
    },
    {
      "cell_type": "code",
      "source": [
        "#negative number\n",
        "-35"
      ],
      "metadata": {
        "colab": {
          "base_uri": "https://localhost:8080/"
        },
        "id": "iQsDMHkvkDl4",
        "outputId": "37cd6a72-ba9e-4516-c348-6a2b443ca49d"
      },
      "execution_count": null,
      "outputs": [
        {
          "output_type": "execute_result",
          "data": {
            "text/plain": [
              "-35"
            ]
          },
          "metadata": {},
          "execution_count": 4
        }
      ]
    },
    {
      "cell_type": "code",
      "source": [
        "#This will give you a syntax error exception\n",
        "023"
      ],
      "metadata": {
        "colab": {
          "base_uri": "https://localhost:8080/",
          "height": 144
        },
        "id": "XChKSMdbj3x2",
        "outputId": "52e0de07-2df4-4689-f848-d268bb082511"
      },
      "execution_count": null,
      "outputs": [
        {
          "output_type": "error",
          "ename": "SyntaxError",
          "evalue": "ignored",
          "traceback": [
            "\u001b[0;36m  File \u001b[0;32m\"<ipython-input-5-2528a7e44e79>\"\u001b[0;36m, line \u001b[0;32m2\u001b[0m\n\u001b[0;31m    023\u001b[0m\n\u001b[0m    ^\u001b[0m\n\u001b[0;31mSyntaxError\u001b[0m\u001b[0;31m:\u001b[0m leading zeros in decimal integer literals are not permitted; use an 0o prefix for octal integers\n"
          ]
        }
      ]
    },
    {
      "cell_type": "code",
      "source": [
        "#this creates a tuple rather than displaying the number you want\n",
        "1,234,567"
      ],
      "metadata": {
        "colab": {
          "base_uri": "https://localhost:8080/"
        },
        "id": "vshHqnhOkHUZ",
        "outputId": "a76e08a1-cce2-4226-fdfc-4326d5a8889a"
      },
      "execution_count": null,
      "outputs": [
        {
          "output_type": "execute_result",
          "data": {
            "text/plain": [
              "(1, 234, 567)"
            ]
          },
          "metadata": {},
          "execution_count": 6
        }
      ]
    },
    {
      "cell_type": "markdown",
      "source": [
        "## Arithmetic operators\n",
        "|Operator|Operation|\n",
        "|:-|:-|\n",
        "|+|addition|\n",
        "|-|subtraction|\n",
        "|*|multiplication|\n",
        "|/|division|\n",
        "|//|integer division|\n",
        "|%|modulo|\n",
        "|**|exponent|"
      ],
      "metadata": {
        "id": "xBNCkn37kdh7"
      }
    },
    {
      "cell_type": "code",
      "source": [
        "1+1"
      ],
      "metadata": {
        "colab": {
          "base_uri": "https://localhost:8080/"
        },
        "id": "ZWiRCtvqj9je",
        "outputId": "7d83fb25-03bd-47b3-e593-43010355469f"
      },
      "execution_count": null,
      "outputs": [
        {
          "output_type": "execute_result",
          "data": {
            "text/plain": [
              "2"
            ]
          },
          "metadata": {},
          "execution_count": 7
        }
      ]
    },
    {
      "cell_type": "code",
      "source": [
        "1-1"
      ],
      "metadata": {
        "colab": {
          "base_uri": "https://localhost:8080/"
        },
        "id": "rJVvzZiIkkxu",
        "outputId": "f18696c4-8bd1-4146-c347-0b7028bdc86e"
      },
      "execution_count": null,
      "outputs": [
        {
          "output_type": "execute_result",
          "data": {
            "text/plain": [
              "0"
            ]
          },
          "metadata": {},
          "execution_count": 8
        }
      ]
    },
    {
      "cell_type": "code",
      "source": [
        "2*3"
      ],
      "metadata": {
        "colab": {
          "base_uri": "https://localhost:8080/"
        },
        "id": "7DYTnLSekm4Q",
        "outputId": "1d398aab-da0e-41c8-f0d2-4729a1a9bb18"
      },
      "execution_count": null,
      "outputs": [
        {
          "output_type": "execute_result",
          "data": {
            "text/plain": [
              "6"
            ]
          },
          "metadata": {},
          "execution_count": 9
        }
      ]
    },
    {
      "cell_type": "code",
      "source": [
        "#Division will give you a float instead of an integer\n",
        "10/5"
      ],
      "metadata": {
        "colab": {
          "base_uri": "https://localhost:8080/"
        },
        "id": "Xp2PilUEmKRc",
        "outputId": "62814ab4-cf57-44fe-8077-8181c9bf0ef6"
      },
      "execution_count": null,
      "outputs": [
        {
          "output_type": "execute_result",
          "data": {
            "text/plain": [
              "2.0"
            ]
          },
          "metadata": {},
          "execution_count": 10
        }
      ]
    },
    {
      "cell_type": "code",
      "source": [
        "#you can cast to an integer to have it display an integer\n",
        "int(10/5)"
      ],
      "metadata": {
        "colab": {
          "base_uri": "https://localhost:8080/"
        },
        "id": "hV9mFuPUmRrX",
        "outputId": "4f7fa4ea-b543-482c-aab2-92401f3ee8ba"
      },
      "execution_count": null,
      "outputs": [
        {
          "output_type": "execute_result",
          "data": {
            "text/plain": [
              "2"
            ]
          },
          "metadata": {},
          "execution_count": 11
        }
      ]
    },
    {
      "cell_type": "code",
      "source": [
        "#And this will give you an integer\n",
        "10//5"
      ],
      "metadata": {
        "colab": {
          "base_uri": "https://localhost:8080/"
        },
        "id": "RMFG32pUmWjR",
        "outputId": "4a3abd1c-39b4-4120-f242-b07a040be309"
      },
      "execution_count": null,
      "outputs": [
        {
          "output_type": "execute_result",
          "data": {
            "text/plain": [
              "2"
            ]
          },
          "metadata": {},
          "execution_count": 12
        }
      ]
    },
    {
      "cell_type": "code",
      "source": [
        "10/3"
      ],
      "metadata": {
        "colab": {
          "base_uri": "https://localhost:8080/"
        },
        "id": "5Kj8gxvrmatg",
        "outputId": "fce8f16b-70d5-45f8-e6dd-36a43ad4f4b5"
      },
      "execution_count": null,
      "outputs": [
        {
          "output_type": "execute_result",
          "data": {
            "text/plain": [
              "3.3333333333333335"
            ]
          },
          "metadata": {},
          "execution_count": 13
        }
      ]
    },
    {
      "cell_type": "code",
      "source": [
        "#But look, 10//3 will give you 3, that's what // does\n",
        "10//3"
      ],
      "metadata": {
        "colab": {
          "base_uri": "https://localhost:8080/"
        },
        "id": "qW2WGkolmdwC",
        "outputId": "6658fff6-49f1-4824-fcc0-8310330d516d"
      },
      "execution_count": null,
      "outputs": [
        {
          "output_type": "execute_result",
          "data": {
            "text/plain": [
              "3"
            ]
          },
          "metadata": {},
          "execution_count": 14
        }
      ]
    },
    {
      "cell_type": "code",
      "source": [
        "#modulo will give you the remainder in the division\n",
        "#For example 10/3 is 3 with 1 left over.\n",
        "10%3"
      ],
      "metadata": {
        "colab": {
          "base_uri": "https://localhost:8080/"
        },
        "id": "mWcXikRjmm1p",
        "outputId": "32f38f89-cebf-4f95-e5f6-f002945a0ffd"
      },
      "execution_count": null,
      "outputs": [
        {
          "output_type": "execute_result",
          "data": {
            "text/plain": [
              "1"
            ]
          },
          "metadata": {},
          "execution_count": 15
        }
      ]
    }
  ]
}
