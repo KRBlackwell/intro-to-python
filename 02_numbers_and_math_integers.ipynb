{
  "nbformat": 4,
  "nbformat_minor": 0,
  "metadata": {
    "colab": {
      "provenance": []
    },
    "kernelspec": {
      "name": "python3",
      "display_name": "Python 3"
    },
    "language_info": {
      "name": "python"
    }
  },
  "cells": [
    {
      "cell_type": "markdown",
      "source": [
        "# Numbers and math\n",
        "* data types\n",
        "* booleans\n",
        "* integers 👈\n",
        "* bases\n",
        "* type conversion\n",
        "* floats\n",
        "* math order of operations\n",
        "* math"
      ],
      "metadata": {
        "id": "R96pkP9Pg7vm"
      }
    },
    {
      "cell_type": "markdown",
      "source": [
        "## Integers\n",
        "Integers are whole numbers, like 1, 2, 3, etc. without decimals or fractions. Don't create integers in your code with commas, because that will create something called a tuple. You can format numbers for printing with commas after the fact."
      ],
      "metadata": {
        "id": "udT1R5NMhU6_"
      }
    },
    {
      "cell_type": "code",
      "execution_count": null,
      "metadata": {
        "colab": {
          "base_uri": "https://localhost:8080/"
        },
        "id": "acK7ykczg67J",
        "outputId": "6c9d8dc7-35d9-4408-e71f-f4b736c5bd6a"
      },
      "outputs": [
        {
          "output_type": "execute_result",
          "data": {
            "text/plain": [
              "0"
            ]
          },
          "metadata": {},
          "execution_count": 1
        }
      ],
      "source": [
        "0"
      ]
    },
    {
      "cell_type": "code",
      "source": [
        "4555"
      ],
      "metadata": {
        "colab": {
          "base_uri": "https://localhost:8080/"
        },
        "id": "MNA-iGyEj1bK",
        "outputId": "3f6a70b4-94d6-45db-b0a2-fcc97eaad7f4"
      },
      "execution_count": null,
      "outputs": [
        {
          "output_type": "execute_result",
          "data": {
            "text/plain": [
              "4555"
            ]
          },
          "metadata": {},
          "execution_count": 2
        }
      ]
    },
    {
      "cell_type": "code",
      "source": [
        "#negative number\n",
        "-35"
      ],
      "metadata": {
        "colab": {
          "base_uri": "https://localhost:8080/"
        },
        "id": "iQsDMHkvkDl4",
        "outputId": "37cd6a72-ba9e-4516-c348-6a2b443ca49d"
      },
      "execution_count": null,
      "outputs": [
        {
          "output_type": "execute_result",
          "data": {
            "text/plain": [
              "-35"
            ]
          },
          "metadata": {},
          "execution_count": 4
        }
      ]
    },
    {
      "cell_type": "code",
      "source": [
        "#This will give you a syntax error exception\n",
        "023"
      ],
      "metadata": {
        "colab": {
          "base_uri": "https://localhost:8080/",
          "height": 144
        },
        "id": "XChKSMdbj3x2",
        "outputId": "52e0de07-2df4-4689-f848-d268bb082511"
      },
      "execution_count": null,
      "outputs": [
        {
          "output_type": "error",
          "ename": "SyntaxError",
          "evalue": "ignored",
          "traceback": [
            "\u001b[0;36m  File \u001b[0;32m\"<ipython-input-5-2528a7e44e79>\"\u001b[0;36m, line \u001b[0;32m2\u001b[0m\n\u001b[0;31m    023\u001b[0m\n\u001b[0m    ^\u001b[0m\n\u001b[0;31mSyntaxError\u001b[0m\u001b[0;31m:\u001b[0m leading zeros in decimal integer literals are not permitted; use an 0o prefix for octal integers\n"
          ]
        }
      ]
    },
    {
      "cell_type": "code",
      "source": [
        "#this creates a tuple rather than displaying the number you want\n",
        "1,234,567"
      ],
      "metadata": {
        "colab": {
          "base_uri": "https://localhost:8080/"
        },
        "id": "vshHqnhOkHUZ",
        "outputId": "a76e08a1-cce2-4226-fdfc-4326d5a8889a"
      },
      "execution_count": null,
      "outputs": [
        {
          "output_type": "execute_result",
          "data": {
            "text/plain": [
              "(1, 234, 567)"
            ]
          },
          "metadata": {},
          "execution_count": 6
        }
      ]
    },
    {
      "cell_type": "markdown",
      "source": [
        "## Arithmetic\n",
        "|Operator|Operation|\n",
        "|:-|:-|\n",
        "|+|addition|\n",
        "|-|subtraction|\n",
        "|*|multiplication|\n",
        "|/|division|\n",
        "|//|integer division|\n",
        "|%|modulo|\n",
        "|**|exponent|"
      ],
      "metadata": {
        "id": "xBNCkn37kdh7"
      }
    },
    {
      "cell_type": "code",
      "source": [
        "1+1"
      ],
      "metadata": {
        "colab": {
          "base_uri": "https://localhost:8080/"
        },
        "id": "ZWiRCtvqj9je",
        "outputId": "7d83fb25-03bd-47b3-e593-43010355469f"
      },
      "execution_count": null,
      "outputs": [
        {
          "output_type": "execute_result",
          "data": {
            "text/plain": [
              "2"
            ]
          },
          "metadata": {},
          "execution_count": 7
        }
      ]
    },
    {
      "cell_type": "code",
      "source": [
        "1-1"
      ],
      "metadata": {
        "colab": {
          "base_uri": "https://localhost:8080/"
        },
        "id": "rJVvzZiIkkxu",
        "outputId": "f18696c4-8bd1-4146-c347-0b7028bdc86e"
      },
      "execution_count": null,
      "outputs": [
        {
          "output_type": "execute_result",
          "data": {
            "text/plain": [
              "0"
            ]
          },
          "metadata": {},
          "execution_count": 8
        }
      ]
    },
    {
      "cell_type": "code",
      "source": [
        "2*3"
      ],
      "metadata": {
        "colab": {
          "base_uri": "https://localhost:8080/"
        },
        "id": "7DYTnLSekm4Q",
        "outputId": "1d398aab-da0e-41c8-f0d2-4729a1a9bb18"
      },
      "execution_count": null,
      "outputs": [
        {
          "output_type": "execute_result",
          "data": {
            "text/plain": [
              "6"
            ]
          },
          "metadata": {},
          "execution_count": 9
        }
      ]
    },
    {
      "cell_type": "code",
      "source": [
        "#Division will give you a float instead of an integer\n",
        "10/5"
      ],
      "metadata": {
        "colab": {
          "base_uri": "https://localhost:8080/"
        },
        "id": "Xp2PilUEmKRc",
        "outputId": "62814ab4-cf57-44fe-8077-8181c9bf0ef6"
      },
      "execution_count": null,
      "outputs": [
        {
          "output_type": "execute_result",
          "data": {
            "text/plain": [
              "2.0"
            ]
          },
          "metadata": {},
          "execution_count": 10
        }
      ]
    },
    {
      "cell_type": "code",
      "source": [
        "#you can cast to an integer to have it display an integer\n",
        "int(10/5)"
      ],
      "metadata": {
        "colab": {
          "base_uri": "https://localhost:8080/"
        },
        "id": "hV9mFuPUmRrX",
        "outputId": "4f7fa4ea-b543-482c-aab2-92401f3ee8ba"
      },
      "execution_count": null,
      "outputs": [
        {
          "output_type": "execute_result",
          "data": {
            "text/plain": [
              "2"
            ]
          },
          "metadata": {},
          "execution_count": 11
        }
      ]
    },
    {
      "cell_type": "code",
      "source": [
        "#And this will give you an integer\n",
        "10//5"
      ],
      "metadata": {
        "colab": {
          "base_uri": "https://localhost:8080/"
        },
        "id": "RMFG32pUmWjR",
        "outputId": "4a3abd1c-39b4-4120-f242-b07a040be309"
      },
      "execution_count": null,
      "outputs": [
        {
          "output_type": "execute_result",
          "data": {
            "text/plain": [
              "2"
            ]
          },
          "metadata": {},
          "execution_count": 12
        }
      ]
    },
    {
      "cell_type": "code",
      "source": [
        "10/3"
      ],
      "metadata": {
        "colab": {
          "base_uri": "https://localhost:8080/"
        },
        "id": "5Kj8gxvrmatg",
        "outputId": "fce8f16b-70d5-45f8-e6dd-36a43ad4f4b5"
      },
      "execution_count": null,
      "outputs": [
        {
          "output_type": "execute_result",
          "data": {
            "text/plain": [
              "3.3333333333333335"
            ]
          },
          "metadata": {},
          "execution_count": 13
        }
      ]
    },
    {
      "cell_type": "code",
      "source": [
        "#But look, 10//3 will give you 3, that's what // does\n",
        "10//3"
      ],
      "metadata": {
        "colab": {
          "base_uri": "https://localhost:8080/"
        },
        "id": "qW2WGkolmdwC",
        "outputId": "6658fff6-49f1-4824-fcc0-8310330d516d"
      },
      "execution_count": null,
      "outputs": [
        {
          "output_type": "execute_result",
          "data": {
            "text/plain": [
              "3"
            ]
          },
          "metadata": {},
          "execution_count": 14
        }
      ]
    },
    {
      "cell_type": "code",
      "source": [
        "#modulo will give you the remainder in the division\n",
        "#For example 10/3 is 3 with 1 left over.\n",
        "10%3"
      ],
      "metadata": {
        "colab": {
          "base_uri": "https://localhost:8080/"
        },
        "id": "mWcXikRjmm1p",
        "outputId": "32f38f89-cebf-4f95-e5f6-f002945a0ffd"
      },
      "execution_count": null,
      "outputs": [
        {
          "output_type": "execute_result",
          "data": {
            "text/plain": [
              "1"
            ]
          },
          "metadata": {},
          "execution_count": 15
        }
      ]
    },
    {
      "cell_type": "markdown",
      "source": [
        "## Order of operation\n",
        "* List comprehensions, generators, and things in parentheses\n",
        "* Function calls\n",
        "* Exponents\n",
        "* Positives, negative, not\n",
        "* Multiplication, divisions, remainders\n",
        "* Addition, subtraction\n",
        "\n",
        "## PEMDAS -> PEDMAS\n",
        "\n",
        "You may have heard this mnemonic \"Please Excuse My Dear Aunt Sally.\" Where you\n",
        "association Please with Parentheses, Excuse with Exponentiation, My with Multiplication, Dear with Division, Aunt with Addition, and Sally with Subtraction. That is the order of operations you learn in school.\n",
        "\\\n",
        "\\\n",
        "We're going to change it a little bit.\n",
        "Python will do division before multiplication.\n",
        "* Parentheses\n",
        "* Exponents\n",
        "* Division\n",
        "* Multiplication\n",
        "* Addition\n",
        "* Subtraction\n",
        "\n",
        "\n",
        "For the most common operations you'll be doing as a beginner, this is the order of operations. There is a lot more to this topic!\n"
      ],
      "metadata": {
        "id": "m4qQ8trDm-8K"
      }
    },
    {
      "cell_type": "code",
      "source": [
        "# Multiplication then Addition\n",
        "# 2 * 3 is evaluated first, 2 * 3 = 6\n",
        "# 4 + 6 = 10\n",
        "4 + 2 * 3"
      ],
      "metadata": {
        "colab": {
          "base_uri": "https://localhost:8080/"
        },
        "id": "EvxgYKwQrs6p",
        "outputId": "aeec24d0-9e50-491a-96de-fe60f663dd21"
      },
      "execution_count": null,
      "outputs": [
        {
          "output_type": "execute_result",
          "data": {
            "text/plain": [
              "10"
            ]
          },
          "metadata": {},
          "execution_count": 1
        }
      ]
    },
    {
      "cell_type": "code",
      "source": [
        "# 4 / 4 = 1\n",
        "# 2 * 3 = 6\n",
        "# 1 + 6 = 7\n",
        "4 / 4 + 2 * 3"
      ],
      "metadata": {
        "colab": {
          "base_uri": "https://localhost:8080/"
        },
        "id": "4aLN9QcCr789",
        "outputId": "d656fa35-bc88-465b-d5c6-2956460e16cb"
      },
      "execution_count": null,
      "outputs": [
        {
          "output_type": "execute_result",
          "data": {
            "text/plain": [
              "7.0"
            ]
          },
          "metadata": {},
          "execution_count": 2
        }
      ]
    },
    {
      "cell_type": "code",
      "source": [
        "#4**2 is exponentiation 4 * 4 = 16\n",
        "# 16 / 4 = 4\n",
        "# 2 * 3 = 6\n",
        "# 4 + 6 = 10\n",
        "4**2 / 4 + 2 * 3"
      ],
      "metadata": {
        "colab": {
          "base_uri": "https://localhost:8080/"
        },
        "id": "o_N4q0b3xoX4",
        "outputId": "17ab0f8a-2253-4edc-b06b-6f24e9030152"
      },
      "execution_count": 1,
      "outputs": [
        {
          "output_type": "execute_result",
          "data": {
            "text/plain": [
              "10.0"
            ]
          },
          "metadata": {},
          "execution_count": 1
        }
      ]
    },
    {
      "cell_type": "code",
      "source": [
        "# Division before Multiplication\n",
        "# (4 + 2) = 6\n",
        "# 4 **2 = 16\n",
        "# 16 / 6 * 3\n",
        "# if you did 6 * 3 first, you'd get a different answer\n",
        "# python does 16 / 6 first\n",
        "# 16 / 6  = 2 2/3 or 2.666666... or (2 + (2/3))\n",
        "# 2 2/3 * 3 = 8\n",
        "\n",
        "4**2 / (4 + 2) * 3"
      ],
      "metadata": {
        "colab": {
          "base_uri": "https://localhost:8080/"
        },
        "id": "e5lNKL5ryolQ",
        "outputId": "4a0e454b-850c-4b5a-9d67-4d2130af895f"
      },
      "execution_count": 11,
      "outputs": [
        {
          "output_type": "execute_result",
          "data": {
            "text/plain": [
              "8.0"
            ]
          },
          "metadata": {},
          "execution_count": 11
        }
      ]
    },
    {
      "cell_type": "code",
      "source": [
        "# (4 + 2) = 6\n",
        "# 4**2 = 16\n",
        "# 16 / 6 - 3 * 3\n",
        "# 2 1/3 - 9 = -6.333333...\n",
        "4**2 / (4 + 2) - 3 * 3"
      ],
      "metadata": {
        "colab": {
          "base_uri": "https://localhost:8080/"
        },
        "id": "bgEpoAGLzUh3",
        "outputId": "32025212-084c-4590-e931-6d96fa1218e2"
      },
      "execution_count": 18,
      "outputs": [
        {
          "output_type": "execute_result",
          "data": {
            "text/plain": [
              "-6.333333333333334"
            ]
          },
          "metadata": {},
          "execution_count": 18
        }
      ]
    },
    {
      "cell_type": "code",
      "source": [
        "# With Addition and Subtraction only, the order doesn't matter.\n",
        "# do the parentheses first. this is our exponent\n",
        "# (3 - 2 ) = 1\n",
        "# so the exponentiation becomes\n",
        "# 4**1 = 4\n",
        "# let's insert it into the full thing\n",
        "# 4 - 5 - 8 + 3 + 2 #so with only addition and subtraction, it doesn't matter what order\n",
        "# 4 + -5 + -8 + 3 + 2 #and we can represent it this way also\n",
        "# so let's go one piece at a time\n",
        "# 4 - 5 = -1\n",
        "# back to the full thing\n",
        "# -1 - 8 + 3 + 2\n",
        "# next two\n",
        "# -1 - 8 = -9\n",
        "# the full thing now becomes\n",
        "# - 9 + 3 + 2\n",
        "# net piece\n",
        "# -9 + 3 = -6\n",
        "# now we're left with\n",
        "# -6 + 2 = -4\n",
        "4**(3-2) - 5 - 8 + 3 + 2"
      ],
      "metadata": {
        "colab": {
          "base_uri": "https://localhost:8080/"
        },
        "id": "XHgjBQsW1TQ8",
        "outputId": "db5b823b-c843-4cc8-8fe1-1a0fc193f6d1"
      },
      "execution_count": 24,
      "outputs": [
        {
          "output_type": "execute_result",
          "data": {
            "text/plain": [
              "-4"
            ]
          },
          "metadata": {},
          "execution_count": 24
        }
      ]
    },
    {
      "cell_type": "markdown",
      "source": [
        "# Exercise example\n",
        "Similar to how I worked through the above example, work through a few more."
      ],
      "metadata": {
        "id": "5Ih9nwx7kpTm"
      }
    },
    {
      "cell_type": "code",
      "source": [
        "#here's how I suggest you work through a couple of examples\n",
        "4**2 / (4 + 2) * 3"
      ],
      "metadata": {
        "colab": {
          "base_uri": "https://localhost:8080/"
        },
        "id": "cTS67VJM5ocZ",
        "outputId": "c014b9db-4c37-4419-8d0a-7ea43451040b"
      },
      "execution_count": 25,
      "outputs": [
        {
          "output_type": "execute_result",
          "data": {
            "text/plain": [
              "8.0"
            ]
          },
          "metadata": {},
          "execution_count": 25
        }
      ]
    },
    {
      "cell_type": "code",
      "source": [
        "4**2"
      ],
      "metadata": {
        "colab": {
          "base_uri": "https://localhost:8080/"
        },
        "id": "xyfnVf7d5yiA",
        "outputId": "f1534f62-80ab-4275-d222-625e2f96f78d"
      },
      "execution_count": 26,
      "outputs": [
        {
          "output_type": "execute_result",
          "data": {
            "text/plain": [
              "16"
            ]
          },
          "metadata": {},
          "execution_count": 26
        }
      ]
    },
    {
      "cell_type": "code",
      "source": [
        "16/(4+2)*3"
      ],
      "metadata": {
        "colab": {
          "base_uri": "https://localhost:8080/"
        },
        "id": "hUnFGdfe52tD",
        "outputId": "f9174f56-6425-406f-efea-43f85f1c8845"
      },
      "execution_count": 28,
      "outputs": [
        {
          "output_type": "execute_result",
          "data": {
            "text/plain": [
              "8.0"
            ]
          },
          "metadata": {},
          "execution_count": 28
        }
      ]
    },
    {
      "cell_type": "code",
      "source": [
        "(4+2)"
      ],
      "metadata": {
        "colab": {
          "base_uri": "https://localhost:8080/"
        },
        "id": "r_rHcgeP50yO",
        "outputId": "f15cf47d-7146-4da7-c5a2-4a0944522916"
      },
      "execution_count": 27,
      "outputs": [
        {
          "output_type": "execute_result",
          "data": {
            "text/plain": [
              "6"
            ]
          },
          "metadata": {},
          "execution_count": 27
        }
      ]
    },
    {
      "cell_type": "code",
      "source": [
        "16/6*3"
      ],
      "metadata": {
        "colab": {
          "base_uri": "https://localhost:8080/"
        },
        "id": "eVhb65St53C8",
        "outputId": "44397bd9-4f22-4a47-867f-a64c6f568df0"
      },
      "execution_count": 29,
      "outputs": [
        {
          "output_type": "execute_result",
          "data": {
            "text/plain": [
              "8.0"
            ]
          },
          "metadata": {},
          "execution_count": 29
        }
      ]
    },
    {
      "cell_type": "code",
      "source": [
        "16/6"
      ],
      "metadata": {
        "colab": {
          "base_uri": "https://localhost:8080/"
        },
        "id": "IxFZ_FLa5_1R",
        "outputId": "4c8e8c7a-07f6-491f-93f9-fbe329775b2e"
      },
      "execution_count": 30,
      "outputs": [
        {
          "output_type": "execute_result",
          "data": {
            "text/plain": [
              "2.6666666666666665"
            ]
          },
          "metadata": {},
          "execution_count": 30
        }
      ]
    },
    {
      "cell_type": "code",
      "source": [
        "2.6666666666666665*3"
      ],
      "metadata": {
        "colab": {
          "base_uri": "https://localhost:8080/"
        },
        "id": "40EmToWK6E6-",
        "outputId": "803b482f-e6a9-4f1e-edf6-22c071abc8f7"
      },
      "execution_count": 31,
      "outputs": [
        {
          "output_type": "execute_result",
          "data": {
            "text/plain": [
              "8.0"
            ]
          },
          "metadata": {},
          "execution_count": 31
        }
      ]
    },
    {
      "cell_type": "code",
      "source": [
        "(2 + (2/3)) * 3"
      ],
      "metadata": {
        "colab": {
          "base_uri": "https://localhost:8080/"
        },
        "id": "9cC7Te9v6JGW",
        "outputId": "05147bf4-f40e-4b97-892d-56d735ef6870"
      },
      "execution_count": 38,
      "outputs": [
        {
          "output_type": "execute_result",
          "data": {
            "text/plain": [
              "8.0"
            ]
          },
          "metadata": {},
          "execution_count": 38
        }
      ]
    },
    {
      "cell_type": "markdown",
      "source": [
        "# Example\n",
        "Now do this with the following:"
      ],
      "metadata": {
        "id": "WCXim2wW65Ba"
      }
    },
    {
      "cell_type": "code",
      "source": [
        "a = 5\n",
        "(a*2 + 3 - 3 / 1) % 10"
      ],
      "metadata": {
        "id": "O99nJSLW6M-y"
      },
      "execution_count": null,
      "outputs": []
    },
    {
      "cell_type": "code",
      "source": [
        "# first operation\n"
      ],
      "metadata": {
        "id": "RcMHlwhw8fz5"
      },
      "execution_count": null,
      "outputs": []
    },
    {
      "cell_type": "code",
      "source": [
        "# type out the full equation with the first operation evaluated\n"
      ],
      "metadata": {
        "id": "YFCbCLeH8gDN"
      },
      "execution_count": null,
      "outputs": []
    },
    {
      "cell_type": "code",
      "source": [
        "# second operation\n"
      ],
      "metadata": {
        "id": "7a16Gao28gXi"
      },
      "execution_count": null,
      "outputs": []
    },
    {
      "cell_type": "code",
      "source": [
        "# type out the full equation with the second operation evaluated\n"
      ],
      "metadata": {
        "id": "yuUsQhwA8gec"
      },
      "execution_count": null,
      "outputs": []
    },
    {
      "cell_type": "code",
      "source": [
        "# third operation - everything in parentheses\n"
      ],
      "metadata": {
        "id": "fXABFNFU8gkf"
      },
      "execution_count": null,
      "outputs": []
    },
    {
      "cell_type": "code",
      "source": [
        "# type out the full equation, which should just be two things now\n"
      ],
      "metadata": {
        "id": "pPpha6Lf8gq9"
      },
      "execution_count": null,
      "outputs": []
    }
  ]
}
