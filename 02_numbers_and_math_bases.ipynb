{
  "nbformat": 4,
  "nbformat_minor": 0,
  "metadata": {
    "colab": {
      "provenance": []
    },
    "kernelspec": {
      "name": "python3",
      "display_name": "Python 3"
    },
    "language_info": {
      "name": "python"
    }
  },
  "cells": [
    {
      "cell_type": "markdown",
      "source": [
        "# Numbers and math\n",
        "* data types\n",
        "* booleans\n",
        "* integers\n",
        "* bases 👈\n",
        "* type conversion\n",
        "* floats\n",
        "* math order of operations\n",
        "* math"
      ],
      "metadata": {
        "id": "aDEpv14AreIg"
      }
    },
    {
      "cell_type": "markdown",
      "source": [
        "# Bases\n",
        "In the USA, we typically use Base 10. Milk is $5. People have 10 fingers and 10 toes. The integers we've used so far (and few floats mentioned) are all base 10.\\\n",
        " \\\n",
        "**Base**, or **radix**, refers to the amount of numbers in a system. So we use 0 - 9, and that's 10 numbers total. Base 10. Typically we don't notate base 10 and it's assumed.\\\n",
        " \\\n",
        "The following table will show you Base systems and their names. The one you use most often in daily life is called \"decimal.\"\\\n",
        " \\\n",
        "\n",
        "|Base|Name|\n",
        "|-|-|\n",
        "|2|Binary|\n",
        "|4|Quaternary|\n",
        "|8|Octal|\n",
        "|10|Decimal|\n",
        "|12|Duodecimal|\n",
        "|16|Hexadecimal|\n",
        "|20|Vigesimal|\n",
        "|60|Sexagesimal|\n",
        "\n",
        "\n",
        "##Other Systems in Daily Life\n",
        "You'll find you do use other systems from time to time. Larger bases allow you to represent bigger numbers with fewer symbols.\\\n",
        " \\\n",
        "* Base 2 - The computers you interact with use binary under the hood (a bit is a 0 or 1). Computers can be simplified to 0s and 1s, or ons and offs, connected vs not connected.\n",
        " * Binary is machine code. Byte code is a level above that. Virtual machines convert byte code to machine code.\n",
        "\n",
        "* Base 8 - Octal is something anyone using a computer is exposed to in file sizes. 8 bits (a 0 or 1) are in 1 byte. Unix file permissions are frequently set and represented as octal using numbers 0-7.\n",
        "\n",
        "* Base 12 - Duodecimal or dozenal, base 12, is one you use if you talk about 1 foot = 12 inches. A dozen is 12. A gross is 12 dozen. 12 hour time is base 12. 12 pennies are in a shilling. There are 12 keys in an octave on the music scale. And our western astrology has 12 zodiac signs. Any Virgos out there?\n",
        "\n",
        "* Base 16 - Hexadecimal, sometimes just called hex, is used for storage purposes in computers. It can store a memory address in the computer, like when you use id() in Python. id() returns a hexadecimal string. You might also see hexadecimal numbers used to represent colors in HTML and CSS. Steam keys,\n",
        "\n",
        "* Base 20 - Humans have 20 fingers and 20 toes. You've heard Base 20 in the Gettysburg address. \"Four score and seven years ago,\" score is 20.\n",
        "\n",
        "* Base 60 - This is in how we tell time. 60 seconds in a minute. 60 minutes in 1 hour.\n"
      ],
      "metadata": {
        "id": "x3kkp2eorj8V"
      }
    },
    {
      "cell_type": "markdown",
      "source": [
        "## Converting Numbers\n",
        "And the next table will give you an idea of number values for the 1-10 you're familiar with. That's the far left \"decimal\" column.\\\n",
        "Note how in our \"decimal\" system, base 10, that 9 is the tenth number. We restart using numbers that we already have, 10 to represent \"ten.\"\\\n",
        "Octal starts over after 7. 8 is represented as 10. 1 \"eight\" and 0 \"ones.\"\\\n",
        "The hexadecimal system uses A-F for 10 - 15. So 16 is 10 in base 16, 1 \"sixteen\" and 0 \"ones.\"\n",
        " \\\n",
        "\n",
        "|decimal|binary|octal|hexadecimal|\n",
        "|-|-|-|-|\n",
        "|0|0|0|0|\n",
        "|1|1|1|1|\n",
        "|2|10|2|2|\n",
        "|3|11|3|3|\n",
        "|4|100|4|4|\n",
        "|5|101|5|5|\n",
        "|6|110|6|6|\n",
        "|7|111|7|7|\n",
        "|8|1000|10|8|\n",
        "|9|1001|11|9|\n",
        "|10|1010|12|A|\n",
        "\n",
        " \\\n",
        " \"ten\" is 10, meaning 1 \"ten\" and 0 \"ones\"\n"
      ],
      "metadata": {
        "id": "N0u9cjOekGeU"
      }
    },
    {
      "cell_type": "code",
      "source": [
        "# Let's look at what this looks like in Python\n",
        "# base 10 to base 2\n",
        "decimal_number = 1\n",
        "binary_representation = bin(decimal_number)\n",
        "print(\"Binary :\", binary_representation)\n",
        "\n",
        "# base 10 to base 8\n",
        "octal_representation = oct(decimal_number)\n",
        "print(\"Octal :\", octal_representation)\n",
        "\n",
        "# base 10 to base 16\n",
        "hexadecimal_representation = hex(decimal_number)\n",
        "print(\"Hexadecimal :\", hexadecimal_representation)\n",
        "\n",
        "# base 2 to base 16\n",
        "binary_number = '0001'\n",
        "decimal_number_from_binary = int(binary_number, 2) #int takes base 2 as an argument\n",
        "print(\"Integer :\", decimal_number_from_binary)"
      ],
      "metadata": {
        "colab": {
          "base_uri": "https://localhost:8080/"
        },
        "id": "VNB74py1LFcf",
        "outputId": "522adf0f-f7fb-4791-b453-40f7b9d7d624"
      },
      "execution_count": null,
      "outputs": [
        {
          "output_type": "stream",
          "name": "stdout",
          "text": [
            "Binary : 0b1\n",
            "Octal : 0o1\n",
            "Hexadecimal : 0x1\n",
            "Integer : 1\n"
          ]
        }
      ]
    },
    {
      "cell_type": "markdown",
      "source": [
        "## Python Bases\n",
        "Note that Python will show you a notation to tell you what representation you're looking at.\\\n",
        " \\\n",
        "\n",
        "|Notation|Label|\n",
        "|-|-|\n",
        "|0b|Binary|\n",
        "|0o|Octal|\n",
        "|0x|Hexadecimal|\n",
        "\n",
        " \\\n",
        " Let's look at a bigger number to see how it looks."
      ],
      "metadata": {
        "id": "3vd15MVEME04"
      }
    },
    {
      "cell_type": "code",
      "source": [
        "# Let's look at a bigger number\n",
        "# base 10 to base 2\n",
        "decimal_number = 17\n",
        "binary_representation = bin(decimal_number)\n",
        "print(\"Binary :\", binary_representation)\n",
        "print(\"Note there is a 1, 3 0's, and a 1 : 1 0 0 0 1\")\n",
        "print(\"17 is 1*(2^4) + 0*(2^3) + 0*(2^2) + 0*(2^1) + 1*(2^0)\")\n",
        "print(\"in Python I would represent 2^4 as 2**4 :\", str(2**4))\n",
        "print(\"So for binary of 17 :\", str(1 * ( 2**4 )  +  1 * ( 2**0 )))\n",
        "print()\n",
        "# base 10 to base 8\n",
        "octal_representation = oct(decimal_number)\n",
        "print(\"Octal :\", octal_representation)\n",
        "print(\"17 = 2 'eights' and 1 'one'\")\n",
        "print()\n",
        "# base 10 to base 16\n",
        "hexadecimal_representation = hex(decimal_number)\n",
        "print(\"Hexadecimal :\", hexadecimal_representation)\n",
        "print(\"17 = 1 'sixteen' and 1 'one'\")\n",
        "print()\n",
        "# base 2 to base 16\n",
        "binary_number = '10001'\n",
        "decimal_number_from_binary = int(binary_number, 2) #int takes base 2 as an argument\n",
        "print(\"Integer :\", decimal_number_from_binary)"
      ],
      "metadata": {
        "colab": {
          "base_uri": "https://localhost:8080/"
        },
        "id": "pulxhk_3So_2",
        "outputId": "d5aba2c4-0127-4991-f359-efbf7c54b024"
      },
      "execution_count": null,
      "outputs": [
        {
          "output_type": "stream",
          "name": "stdout",
          "text": [
            "Binary : 0b10001\n",
            "Note there is a 1, 3 0's, and a 1 : 1 0 0 0 1\n",
            "17 is 1*(2^4) + 0*(2^3) + 0*(2^2) + 0*(2^1) + 1*(2^0)\n",
            "in Python I would represent 2^4 as 2**4 : 16\n",
            "So for binary of 17 : 17\n",
            "\n",
            "Octal : 0o21\n",
            "17 = 2 'eights' and 1 'one'\n",
            "\n",
            "Hexadecimal : 0x11\n",
            "17 = 1 'sixteen' and 1 'one'\n",
            "\n",
            "Integer : 17\n"
          ]
        }
      ]
    },
    {
      "cell_type": "markdown",
      "source": [
        "# Encoding\n",
        "You might hear the word encoding used in different contexts. For example, **character** encoding is a way to represent strings using numbers that the computer can interpret.\\\n",
        "**Numeric** encoding involves representing a number in a specific base, such as binary (base 2) or octal (base 8) as discussed above.\\\n",
        "  \\\n",
        "The encoding for text files is important because ASCII, UTF-8, Latin, and others use different binary representations for different characters. Some data files use different encoding and specifying that encoding can mean preserving data integrity when importing."
      ],
      "metadata": {
        "id": "n4WhA_JfxRqq"
      }
    }
  ]
}