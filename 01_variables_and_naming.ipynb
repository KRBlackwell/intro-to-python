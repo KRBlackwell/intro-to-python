{
  "nbformat": 4,
  "nbformat_minor": 0,
  "metadata": {
    "colab": {
      "provenance": []
    },
    "kernelspec": {
      "name": "python3",
      "display_name": "Python 3"
    },
    "language_info": {
      "name": "python"
    }
  },
  "cells": [
    {
      "cell_type": "markdown",
      "source": [
        "# Variables and Naming\n",
        "### For Beginners - I recommend you supplement your learning with a book.\n",
        "Python info covered in this notebook:\n",
        "* case sensitive\n",
        "* names start with letter or underscore\n",
        "* you'll learn naming conventions in a future notebook\n",
        "* reserved words\n",
        "* assign a reference\n",
        "* shallow vs deep copies\n",
        "\n",
        "Note that in a notebook like this, you don't need the print() statement to have the notebook print things. You can just put something and it'll print. See the cell below."
      ],
      "metadata": {
        "id": "nIvZAOrfMNQv"
      }
    },
    {
      "cell_type": "code",
      "source": [
        "\"I don't need print here!\""
      ],
      "metadata": {
        "colab": {
          "base_uri": "https://localhost:8080/",
          "height": 35
        },
        "id": "TckLNvaRU5Ac",
        "outputId": "245b1718-e812-4cd5-d819-99fc4250e3a1"
      },
      "execution_count": null,
      "outputs": [
        {
          "output_type": "execute_result",
          "data": {
            "text/plain": [
              "\"I don't need print here!\""
            ],
            "application/vnd.google.colaboratory.intrinsic+json": {
              "type": "string"
            }
          },
          "metadata": {},
          "execution_count": 23
        }
      ]
    },
    {
      "cell_type": "markdown",
      "source": [
        "## Welcome to [She Charms](https://www.shecharms.io)! Let's learn and run some code."
      ],
      "metadata": {
        "id": "c_RgRi-6Mw9V"
      }
    },
    {
      "cell_type": "markdown",
      "source": [
        "# Variable and method naming rules:\n",
        "* Python variables, objects, methods, and values are case sensitive.\n",
        "  * Variable is not the same as variable.\n",
        "* Python variables and methods must start with a letter or underscore.\n",
        "  * this_is_ok, 1this_is_not_ok, dont_do_this!, _a_name, __a_fine_name, a_fine_name_indeed\n",
        "* There are naming conventions around variables and methods that begin with one or two underscores.\n",
        "  * Two underscores is called a dunder __\n",
        "* Variables and methods can't be named certain things. Python, and other languages, have a group of keywords, or reserved words."
      ],
      "metadata": {
        "id": "_E-BA3ExM73F"
      }
    },
    {
      "cell_type": "markdown",
      "source": [
        "## List of keywords. Don't use these for variable or method names. It's confusing for Python and anyone reading your code."
      ],
      "metadata": {
        "id": "3zr_MwPHNgO5"
      }
    },
    {
      "cell_type": "code",
      "source": [
        "import keyword\n",
        "\n",
        "print(keyword.kwlist)\n",
        "\n",
        "print()\n",
        "#I'll format those for you a little better\n",
        "for idx, kw in enumerate(keyword.kwlist):\n",
        "    print(kw+\",   \", end='\\n' if idx % 10 == 0 else '')"
      ],
      "metadata": {
        "colab": {
          "base_uri": "https://localhost:8080/"
        },
        "id": "LPRUgQmpK8Um",
        "outputId": "3689f4f5-35c2-4d68-9861-1f173261fbfe"
      },
      "execution_count": null,
      "outputs": [
        {
          "output_type": "stream",
          "name": "stdout",
          "text": [
            "['False', 'None', 'True', 'and', 'as', 'assert', 'async', 'await', 'break', 'class', 'continue', 'def', 'del', 'elif', 'else', 'except', 'finally', 'for', 'from', 'global', 'if', 'import', 'in', 'is', 'lambda', 'nonlocal', 'not', 'or', 'pass', 'raise', 'return', 'try', 'while', 'with', 'yield', '_', 'case', 'match', '_', 'case', 'match', '_', 'case', 'match', '_', 'case', 'match']\n",
            "\n",
            "False,   \n",
            "None,   True,   and,   as,   assert,   async,   await,   break,   class,   continue,   \n",
            "def,   del,   elif,   else,   except,   finally,   for,   from,   global,   if,   \n",
            "import,   in,   is,   lambda,   nonlocal,   not,   or,   pass,   raise,   return,   \n",
            "try,   while,   with,   yield,   _,   case,   match,   _,   case,   match,   \n",
            "_,   case,   match,   _,   case,   match,   "
          ]
        }
      ]
    },
    {
      "cell_type": "markdown",
      "source": [
        "## Assign values to a variable =\n",
        "Python assigns values to a variable with an equals sign = \\\n",
        "Let's make some variables below and see their values"
      ],
      "metadata": {
        "id": "tFMoVjIoQn1L"
      }
    },
    {
      "cell_type": "code",
      "source": [
        "x = 1\n",
        "m = 2\n",
        "b = 3\n",
        "y = m*x + b\n",
        "print(\"x =\", x)\n",
        "print(\"m =\", m)\n",
        "print(\"b =\", b)\n",
        "print(\"y =\", y) # 2*1 + 3 = 5"
      ],
      "metadata": {
        "colab": {
          "base_uri": "https://localhost:8080/"
        },
        "id": "qWzx5ZQZQjKH",
        "outputId": "3d0b149d-a527-4b03-abea-03289fdc20b4"
      },
      "execution_count": null,
      "outputs": [
        {
          "output_type": "stream",
          "name": "stdout",
          "text": [
            "x = 1\n",
            "m = 2\n",
            "b = 3\n",
            "y = 5\n"
          ]
        }
      ]
    },
    {
      "cell_type": "markdown",
      "source": [
        "# Exercise\n",
        "Create a few variables in the cell below."
      ],
      "metadata": {
        "id": "hunSy3SCQ83C"
      }
    },
    {
      "cell_type": "code",
      "source": [
        "print(\"EXERCISE\")\n",
        "exercise_string = \"Create a few variables here:\"\n",
        "print(exercise_string)\n",
        "var1 = \"A string variable can look like this\"\n",
        "var2 = 'this is fine too'\n",
        "print(\"var1 =\", var1)\n",
        "print(\"var2 =\", var2)\n",
        "#now add more and print them\n",
        "print(\"Now add more and print them\")"
      ],
      "metadata": {
        "colab": {
          "base_uri": "https://localhost:8080/"
        },
        "id": "JLoUYA6eRCuk",
        "outputId": "2f09f350-9a68-4aaa-eb45-f2f331c4a546"
      },
      "execution_count": null,
      "outputs": [
        {
          "output_type": "stream",
          "name": "stdout",
          "text": [
            "EXERCISE\n",
            "Create a few variables here:\n",
            "var1 = A string variable can look like this\n",
            "var2 = this is fine too\n"
          ]
        }
      ]
    },
    {
      "cell_type": "markdown",
      "source": [
        "We assigned values to the variables above. If you want to make an algebraic equation, which looks similar to what you've seen, you have to use some packages.\n",
        "What we are doing is assigning a value to variables using a single equal sign.\n",
        "## What happens when we don't name something before we use it?\n",
        "You will get an error like this:\\\n",
        " Traceback (most recent call last):\\\n",
        "   File \"01_variables_and_naming.py\", line 43, in <module>\\\n",
        "     print(\"z =\", z)\\\n",
        "                  ^\\\n",
        " NameError: name 'z' is not defined\\\n",
        "\\\n",
        " Don't worry if that looks confusing. We'll dive into that later. But note that it says \"name 'z' is not defined\""
      ],
      "metadata": {
        "id": "IrPTV6LQRMG-"
      }
    },
    {
      "cell_type": "markdown",
      "source": [
        "# Exercise\n",
        "Fix the following line by initializing z. That means you assign a value to z like we did above with x, m, b, y"
      ],
      "metadata": {
        "id": "b9sQaeZQRwWx"
      }
    },
    {
      "cell_type": "code",
      "source": [
        "#what goes here to make the following code run without error?\n",
        "\n",
        "print(\"z =\", z)"
      ],
      "metadata": {
        "colab": {
          "base_uri": "https://localhost:8080/",
          "height": 215
        },
        "id": "Rixh71UHR5Zn",
        "outputId": "e0372e8b-e4c2-4d81-dcb3-8bd59b874748"
      },
      "execution_count": null,
      "outputs": [
        {
          "output_type": "error",
          "ename": "NameError",
          "evalue": "ignored",
          "traceback": [
            "\u001b[0;31m---------------------------------------------------------------------------\u001b[0m",
            "\u001b[0;31mNameError\u001b[0m                                 Traceback (most recent call last)",
            "\u001b[0;32m<ipython-input-20-6734388999dc>\u001b[0m in \u001b[0;36m<cell line: 3>\u001b[0;34m()\u001b[0m\n\u001b[1;32m      1\u001b[0m \u001b[0;31m#what goes here to make the following code run without error?\u001b[0m\u001b[0;34m\u001b[0m\u001b[0;34m\u001b[0m\u001b[0m\n\u001b[1;32m      2\u001b[0m \u001b[0;34m\u001b[0m\u001b[0m\n\u001b[0;32m----> 3\u001b[0;31m \u001b[0mprint\u001b[0m\u001b[0;34m(\u001b[0m\u001b[0;34m\"z =\"\u001b[0m\u001b[0;34m,\u001b[0m \u001b[0mz\u001b[0m\u001b[0;34m)\u001b[0m\u001b[0;34m\u001b[0m\u001b[0;34m\u001b[0m\u001b[0m\n\u001b[0m",
            "\u001b[0;31mNameError\u001b[0m: name 'z' is not defined"
          ]
        }
      ]
    },
    {
      "cell_type": "markdown",
      "source": [
        "## Assign a reference\n",
        "Python doesn't create a new location in memory. It creates a reference to an object.\\\n",
        "id() will tell us an object's location in memory. You can use this to see if two names are pointing to the\n",
        "        same place.\\\n",
        "Remember above we named x = 1\\\n",
        "The code below will show you the location, or id, in memory of x and 1 by doing id(x) and id(1).\\\n",
        "\\\n",
        "Then, you will see a double equals sign. That tests if the two are the same. True means they're the same."
      ],
      "metadata": {
        "id": "pciLDcEtSCh1"
      }
    },
    {
      "cell_type": "code",
      "source": [
        "print(id(1))\n",
        "print(id(x))\n",
        "# Double equals sign == tests if the things on either side are the same. True means they're equal.\n",
        "print(id(1) == id(x))"
      ],
      "metadata": {
        "colab": {
          "base_uri": "https://localhost:8080/"
        },
        "id": "2qKEyRAzUGcH",
        "outputId": "c0073f3c-f570-48bf-b065-1487d12df1b5"
      },
      "execution_count": null,
      "outputs": [
        {
          "output_type": "stream",
          "name": "stdout",
          "text": [
            "140592732061936\n",
            "140592732061936\n",
            "True\n"
          ]
        }
      ]
    },
    {
      "cell_type": "markdown",
      "source": [
        "# Exercise\n",
        "See the assignments and prints in the cells below.\\\n",
        "Use id() to see what the location is for each variable and value."
      ],
      "metadata": {
        "id": "WvGLqArJVGPL"
      }
    },
    {
      "cell_type": "code",
      "source": [
        "# Let's assign some variables and see how they look.\n",
        "a = 'a'\n",
        "print(\"a =\", a)\n",
        "print(\"We assign a = b\")\n",
        "a = b\n",
        "print(\"a and b are pointing to 'a' in memory.\")\n",
        "print(\"ids for a, b, and 'a':\", id(a), id(b), id('a'))\n",
        "print(\"ids for a, b, and 'a' all equal?:\", id(a) == id(b) == id('a'))\n",
        "print(\"a =\", a)\n",
        "print(\"b =\", b)\n",
        "print(\"We assign a = 'a' again\")\n",
        "a = 'a'\n",
        "print(\"a =\", a)\n",
        "print(\"b =\", b)\n",
        "print(\"We assign b = 'b'\")\n",
        "b = 'c'\n",
        "print(\"a =\", a)\n",
        "print(\"b =\", b)\n",
        "print()\n",
        "print(\"Let's look at another one.\")\n",
        "x = 3\n",
        "y = x\n",
        "print(\"x =\", x)\n",
        "print(\"y =\", y)\n",
        "print(\"Next we do x = x + 1\") # in other programming languages you can do x++ or x+=1 to do this operation\n",
        "x = x + 1\n",
        "print(\"x =\", x)\n",
        "print(\"y =\", y)"
      ],
      "metadata": {
        "colab": {
          "base_uri": "https://localhost:8080/"
        },
        "id": "2kNG8Nx8UaVk",
        "outputId": "db6a670b-75de-466b-b3b8-766fd4d90109"
      },
      "execution_count": null,
      "outputs": [
        {
          "output_type": "stream",
          "name": "stdout",
          "text": [
            "a = a\n",
            "We assign a = b\n",
            "a and b are pointing to 'a' in memory.\n",
            "ids for a, b, and 'a': 140592730691760 140592730691760 140592730881840\n",
            "ids for a, b, and 'a' all equal?: False\n",
            "a = c\n",
            "b = c\n",
            "We assign a = 'a' again\n",
            "a = a\n",
            "b = c\n",
            "We assign b = 'b'\n",
            "a = a\n",
            "b = c\n",
            "\n",
            "Let's look at another one.\n",
            "x = 3\n",
            "y = 3\n",
            "Next we do x = x + 1\n",
            "x = 4\n",
            "y = 3\n"
          ]
        }
      ]
    },
    {
      "cell_type": "markdown",
      "source": [
        "\n",
        "# Shallow and Deep Copies\n",
        "## Shallow copies - shared reference\n",
        "## Deep copies - new thing\n",
        "Mostly this applies to things like lists and dataframes. We'll come back to these ideas again, but I want to expose you to it now. Some other programming languages don't do shared references like python does.\\\n",
        "Let's make two lists that point to the same thing in memory."
      ],
      "metadata": {
        "id": "6MWcISgxUWP-"
      }
    },
    {
      "cell_type": "code",
      "source": [
        "mylist1 = [1, 2, 3]\n",
        "mylist2 = mylist1\n",
        "print(\"mylist1:\", mylist1)\n",
        "print(\"mylist2:\", mylist2)\n",
        "print(\"ids:\", id(mylist1), id(mylist2))\n",
        "print(\"ids equal?:\", id(mylist1) == id(mylist2))"
      ],
      "metadata": {
        "colab": {
          "base_uri": "https://localhost:8080/"
        },
        "id": "v95-wizeVtcF",
        "outputId": "30f96b45-0ae1-454d-a0cc-97ea89c78e07"
      },
      "execution_count": null,
      "outputs": [
        {
          "output_type": "stream",
          "name": "stdout",
          "text": [
            "mylist1: [1, 2, 3]\n",
            "mylist2: [1, 2, 3]\n",
            "ids: 140591827575360 140591827575360\n",
            "ids equal?: True\n"
          ]
        }
      ]
    },
    {
      "cell_type": "markdown",
      "source": [
        "# Exercise\n",
        "The id of [1,2,3] == the id of [1, 2, 3], but doesn't equal mylist1 or mylist2. Try it below."
      ],
      "metadata": {
        "id": "YjLIwpHvVxVO"
      }
    },
    {
      "cell_type": "code",
      "source": [
        "print(id([1,2,3]))\n",
        "#add the rest, include a test to see if the id of mylist1 == the id of [1,2,3]\n",
        "#then include a test to see if this returns True: print(mylist1 == [1,2,3])"
      ],
      "metadata": {
        "colab": {
          "base_uri": "https://localhost:8080/"
        },
        "id": "SSbSOJ8cV5ki",
        "outputId": "7918ae47-13f9-4436-eaa3-db7fe4c5baf7"
      },
      "execution_count": null,
      "outputs": [
        {
          "output_type": "stream",
          "name": "stdout",
          "text": [
            "140591829560896\n"
          ]
        }
      ]
    },
    {
      "cell_type": "markdown",
      "source": [
        "Next, we'll make a change to the list. We are going to \"pop\" to remove the last value."
      ],
      "metadata": {
        "id": "6ng7mRJCWJgT"
      }
    },
    {
      "cell_type": "code",
      "source": [
        "mylist1.pop()\n",
        "print(\"mylist1:\", mylist1)\n",
        "print(\"mylist2:\", mylist2)\n",
        "print(\"Notice they both look different now.\")"
      ],
      "metadata": {
        "colab": {
          "base_uri": "https://localhost:8080/"
        },
        "id": "ffhAu1kfWOIQ",
        "outputId": "f6428386-2532-4faf-ba43-a072a12d4505"
      },
      "execution_count": null,
      "outputs": [
        {
          "output_type": "stream",
          "name": "stdout",
          "text": [
            "mylist1: [1, 2]\n",
            "mylist2: [1, 2]\n",
            "Notice they both look different now.\n"
          ]
        }
      ]
    }
  ]
}